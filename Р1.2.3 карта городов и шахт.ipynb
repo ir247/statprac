{
 "cells": [
  {
   "cell_type": "code",
   "execution_count": 283,
   "metadata": {},
   "outputs": [],
   "source": [
    "import random\n",
    "import numpy as np\n",
    "import math"
   ]
  },
  {
   "cell_type": "code",
   "execution_count": 284,
   "metadata": {},
   "outputs": [],
   "source": [
    "#a = []\n",
    "#for r in range(100):\n",
    "    #a.append([]) # создаем пустую строку\n",
    "    #for c in range(100): # в каждой строке - 100 элементов\n",
    "        #a[r].append(0) # добавляем очередной элемент в строку"
   ]
  },
  {
   "cell_type": "code",
   "execution_count": 285,
   "metadata": {},
   "outputs": [],
   "source": [
    "#for r in a:\n",
    "    #print(r)\n"
   ]
  },
  {
   "cell_type": "code",
   "execution_count": 286,
   "metadata": {},
   "outputs": [],
   "source": [
    "#генерируем 1 точку\n",
    "def generation():\n",
    "    x = random.randint(0,99)\n",
    "    y = random.randint(0,99)\n",
    "    return(x,y)"
   ]
  },
  {
   "cell_type": "code",
   "execution_count": 287,
   "metadata": {},
   "outputs": [],
   "source": [
    "x1, y1 = generation()"
   ]
  },
  {
   "cell_type": "code",
   "execution_count": 288,
   "metadata": {},
   "outputs": [
    {
     "data": {
      "text/plain": [
       "(37, 5)"
      ]
     },
     "execution_count": 288,
     "metadata": {},
     "output_type": "execute_result"
    }
   ],
   "source": [
    "x1, y1"
   ]
  },
  {
   "cell_type": "code",
   "execution_count": 289,
   "metadata": {},
   "outputs": [],
   "source": [
    "#генерируем 2 точку\n",
    "def generation2():\n",
    "    x, y = generation()\n",
    "    if ((x-x1)**2+(y-y1)**2 >= 1600):\n",
    "        return(x, y)\n",
    "    else:\n",
    "        return(generation2())"
   ]
  },
  {
   "cell_type": "code",
   "execution_count": 290,
   "metadata": {},
   "outputs": [],
   "source": [
    "x2, y2 = generation2()"
   ]
  },
  {
   "cell_type": "code",
   "execution_count": 291,
   "metadata": {},
   "outputs": [],
   "source": [
    "#генерируем 3 точку\n",
    "def generation3():\n",
    "    x3, y3 = generation()\n",
    "    if ((x3-x1)**2+(y3-y1)**2 >= 1600 and (x3-x2)**2+(y3-y2)**2 >=1600):\n",
    "        return(x3, y3)\n",
    "    else:\n",
    "        return(generation3())"
   ]
  },
  {
   "cell_type": "code",
   "execution_count": 292,
   "metadata": {},
   "outputs": [],
   "source": [
    "x3, y3 = generation3()"
   ]
  },
  {
   "cell_type": "code",
   "execution_count": 293,
   "metadata": {},
   "outputs": [],
   "source": [
    "#генерируем 4 точку\n",
    "def generation4():\n",
    "    x4, y4 = generation()\n",
    "    if (((x4-x1)**2+(y4-y1)**2) >= 1600 and ((x4-x2)**2+(y4-y2)**2) >=1600 and ((x4-x3)**2+(y4-y3)**2)>=1600):\n",
    "        return(x4, y4)\n",
    "    else:\n",
    "        return(generation4())"
   ]
  },
  {
   "cell_type": "code",
   "execution_count": 294,
   "metadata": {},
   "outputs": [],
   "source": [
    "x4, y4 = generation4()"
   ]
  },
  {
   "cell_type": "code",
   "execution_count": 295,
   "metadata": {},
   "outputs": [],
   "source": [
    "#генерируем 5 точку\n",
    "def generation5():\n",
    "    x5, y5 = generation()\n",
    "    if ((x5-x1)**2+(y5-y1)**2 >= 1600 and (x5-x2)**2+(y5-y2)**2 >= 1600 and (x5-x3)**2+(y5-y3)**2>=1600 and (x5-x4)**2+(y5-y4)**2>=1600):\n",
    "        return(x5, y5)\n",
    "    else:\n",
    "        return(generation5())"
   ]
  },
  {
   "cell_type": "code",
   "execution_count": 296,
   "metadata": {},
   "outputs": [],
   "source": [
    "x5, y5 = generation5()"
   ]
  },
  {
   "cell_type": "code",
   "execution_count": 297,
   "metadata": {},
   "outputs": [
    {
     "data": {
      "image/png": "[encoded data removed]",
      "text/plain": [
       "<Figure size 432x288 with 1 Axes>"
      ]
     },
     "metadata": {
      "needs_background": "light"
     },
     "output_type": "display_data"
    }
   ],
   "source": [
    "import matplotlib.pyplot as plt\n",
    "\n",
    "X = [x1,x2,x3,x4,x5]\n",
    "Y = [y1,y2,y3,y4,y5]\n",
    "\n",
    "plt.scatter(x = X, y = Y)\n",
    "plt.show()"
   ]
  },
  {
   "cell_type": "code",
   "execution_count": 305,
   "metadata": {},
   "outputs": [],
   "source": [
    "#генерируем шахты для 1-го города\n",
    "def generation11():\n",
    "    x11, y11 = generation()\n",
    "    if (400>= (x11-x1)**2+(y11-y1)**2 >= 100):\n",
    "        return(x11, y11)\n",
    "    else:\n",
    "        return(generation11())\n",
    "x11, y11 = generation11()\n",
    "\n",
    "def generation12():\n",
    "    x12, y12 = generation()\n",
    "    if (400>= (x12-x1)**2+(y12-y1)**2 >= 100 \n",
    "        and (x12-x11)**2+(y12-y11)**2>=100):\n",
    "        return(x12, y12)\n",
    "    else:\n",
    "        return(generation12())\n",
    "x12, y12 = generation12()"
   ]
  },
  {
   "cell_type": "code",
   "execution_count": 306,
   "metadata": {},
   "outputs": [],
   "source": [
    "#генерируем шахты для 2-го города\n",
    "def generation21():\n",
    "    x21, y21 = generation()\n",
    "    if (400>= (x21-x2)**2+(y21-y2)**2 >= 100 \n",
    "        and (x21-x11)**2+(y21-y11)**2>=100 \n",
    "        and (x21-x12)**2+(y21-y12)**2>=100):\n",
    "        return(x21, y21)\n",
    "    else:\n",
    "        return(generation21())\n",
    "x21, y21 = generation21()\n",
    "\n",
    "def generation22():\n",
    "    x22, y22 = generation()\n",
    "    if (400>= (x22-x2)**2+(y22-y2)**2 >= 100 \n",
    "        and (x22-x11)**2+(y22-y11)**2>=100 \n",
    "        and (x22-x12)**2+(y22-y12)**2>=100 \n",
    "        and (x21-x21)**2+(y22-y21)**2>=100):\n",
    "        return(x22, y22)\n",
    "    else:\n",
    "        return(generation22())\n",
    "x22, y22 = generation22()"
   ]
  },
  {
   "cell_type": "code",
   "execution_count": 307,
   "metadata": {},
   "outputs": [],
   "source": [
    "#генерируем шахты для 3-го города\n",
    "def generation31():\n",
    "    x31, y31 = generation()\n",
    "    if (400>= (x31-x3)**2+(y31-y3)**2 >= 100 \n",
    "        and (x31-x11)**2+(y31-y11)**2>=100 \n",
    "        and (x31-x12)**2+(y31-y12)**2>=100 \n",
    "        and (x31-x21)**2+(y31-y21)**2>=100 \n",
    "        and (x31-x22)**2+(y31-y22)**2>=100):\n",
    "        return(x31, y31)\n",
    "    else:\n",
    "        return(generation31())\n",
    "x31, y31 = generation31()\n",
    "\n",
    "def generation32():\n",
    "    x32, y32 = generation()\n",
    "    if (400>= (x32-x3)**2+(y32-y3)**2 >= 100 \n",
    "        and (x32-x11)**2+(y32-y11)**2>=100 \n",
    "        and (x32-x12)**2+(y32-y12)**2>=100 \n",
    "        and (x32-x12)**2+(y32-y21)**2>=100 \n",
    "        and (x32-x22)**2+(y32-y22)**2>=100\n",
    "        and (x32-x31)**2+(y32-y31)**2>=100):\n",
    "        return(x32, y32)\n",
    "    else:\n",
    "        return(generation32())\n",
    "x32, y32 = generation32()"
   ]
  },
  {
   "cell_type": "code",
   "execution_count": 308,
   "metadata": {},
   "outputs": [],
   "source": [
    "#генерируем шахты для 4-го города\n",
    "def generation41():\n",
    "    x41, y41 = generation()\n",
    "    if (400>= (x41-x4)**2+(y41-y4)**2 >= 100 \n",
    "        and (x41-x11)**2+(y41-y11)**2>=100 \n",
    "        and (x41-x12)**2+(y41-y12)**2>=100 \n",
    "        and (x41-x21)**2+(y41-y21)**2>=100 \n",
    "        and (x41-x22)**2+(y41-y22)**2>=100\n",
    "        and (x41-x31)**2+(y41-y31)**2>=100\n",
    "        and (x41-x32)**2+(y41-y32)**2>=100):\n",
    "        return(x41, y41)\n",
    "    else:\n",
    "        return(generation41())\n",
    "x41, y41 = generation41()\n",
    "\n",
    "def generation42():\n",
    "    x42, y42 = generation()\n",
    "    if (400>= (x42-x4)**2+(y42-y4)**2 >= 100 \n",
    "        and (x42-x11)**2+(y42-y11)**2>=100 \n",
    "        and (x42-x12)**2+(y42-y12)**2>=100 \n",
    "        and (x42-x12)**2+(y42-y21)**2>=100 \n",
    "        and (x42-x22)**2+(y42-y22)**2>=100\n",
    "        and (x42-x31)**2+(y42-y31)**2>=100\n",
    "        and (x42-x32)**2+(y42-y32)**2>=100\n",
    "        and (x42-x41)**2+(y42-y41)**2>=100):\n",
    "        return(x42, y42)\n",
    "    else:\n",
    "        return(generation42())\n",
    "x42, y42 = generation42()"
   ]
  },
  {
   "cell_type": "code",
   "execution_count": 309,
   "metadata": {},
   "outputs": [],
   "source": [
    "#генерируем шахты для 5-го города\n",
    "def generation51():\n",
    "    x51, y51 = generation()\n",
    "    if (400>= (x51-x5)**2+(y51-y5)**2 >= 100 \n",
    "        and (x51-x11)**2+(y51-y11)**2>=100 \n",
    "        and (x51-x12)**2+(y51-y12)**2>=100 \n",
    "        and (x51-x21)**2+(y51-y21)**2>=100 \n",
    "        and (x51-x22)**2+(y51-y22)**2>=100\n",
    "        and (x51-x31)**2+(y51-y31)**2>=100\n",
    "        and (x51-x32)**2+(y51-y32)**2>=100\n",
    "        and (x51-x41)**2+(y51-y41)**2>=100\n",
    "        and (x51-x42)**2+(y51-y42)**2>=100):\n",
    "        return(x51, y51)\n",
    "    else:\n",
    "        return(generation51())\n",
    "x51, y51 = generation51()\n",
    "\n",
    "def generation52():\n",
    "    x52, y52 = generation()\n",
    "    if (400>= (x52-x5)**2+(y52-y5)**2 >= 100 \n",
    "        and (x52-x11)**2+(y52-y11)**2>=100 \n",
    "        and (x52-x12)**2+(y52-y12)**2>=100 \n",
    "        and (x52-x12)**2+(y52-y21)**2>=100 \n",
    "        and (x52-x22)**2+(y52-y22)**2>=100\n",
    "        and (x52-x31)**2+(y52-y31)**2>=100\n",
    "        and (x52-x32)**2+(y52-y32)**2>=100\n",
    "        and (x52-x41)**2+(y52-y41)**2>=100\n",
    "        and (x52-x42)**2+(y52-y42)**2>=100\n",
    "        and (x52-x51)**2+(y52-y51)**2>=100):\n",
    "        return(x52, y52)\n",
    "    else:\n",
    "        return(generation52())\n",
    "x52, y52 = generation52()"
   ]
  },
  {
   "cell_type": "code",
   "execution_count": 310,
   "metadata": {},
   "outputs": [],
   "source": [
    "X1 = [x11, x12, x21, x22, x31, x32, x41, x42, x51, x52]\n",
    "Y1 = [y11, y12, y21, y22, y31, y32, y41, y42, y51, y52]"
   ]
  },
  {
   "cell_type": "code",
   "execution_count": 320,
   "metadata": {},
   "outputs": [
    {
     "data": {
      "image/png": "[encoded data removed]",
      "text/plain": [
       "<Figure size 432x288 with 1 Axes>"
      ]
     },
     "metadata": {
      "needs_background": "light"
     },
     "output_type": "display_data"
    }
   ],
   "source": [
    "plt.scatter(x = X, y = Y)\n",
    "plt.scatter(x = X1, y = Y1)\n",
    "\n",
    "plt.show()"
   ]
  },
  {
   "cell_type": "code",
   "execution_count": null,
   "metadata": {},
   "outputs": [],
   "source": []
  }
 ],
 "metadata": {
  "kernelspec": {
   "display_name": "Python 3",
   "language": "python",
   "name": "python3"
  },
  "language_info": {
   "codemirror_mode": {
    "name": "ipython",
    "version": 3
   },
   "file_extension": ".py",
   "mimetype": "text/x-python",
   "name": "python",
   "nbconvert_exporter": "python",
   "pygments_lexer": "ipython3",
   "version": "3.7.4"
  }
 },
 "nbformat": 4,
 "nbformat_minor": 2
}
